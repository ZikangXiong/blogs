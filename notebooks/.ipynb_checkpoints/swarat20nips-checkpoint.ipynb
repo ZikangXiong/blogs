{
 "cells": [
  {
   "cell_type": "markdown",
   "metadata": {},
   "source": [
    "# Neuro-symbolic Reinforcement Learning with Formally Verified Exploration\n",
    "\n",
    "## Contribution\n",
    "Guarantee the safe exploration in continuous control tasks.  \n",
    "\n",
    "## Imitate Safely  \n",
    "Get **a** shield.  \n",
    "1. Initialize the system with a manually constructed shield.  \n",
    "2. The neural network policy is imitated from the shield.  \n",
    "3. The neural network is updated with gradient-based RL algorithms.  \n",
    "4. Imitate the shielded neural network to get a new shield.  \n",
    "\n",
    "## $Project_\\mathcal{G}$"
   ]
  }
 ],
 "metadata": {
  "kernelspec": {
   "display_name": "Python 3",
   "language": "python",
   "name": "python3"
  },
  "language_info": {
   "codemirror_mode": {
    "name": "ipython",
    "version": 3
   },
   "file_extension": ".py",
   "mimetype": "text/x-python",
   "name": "python",
   "nbconvert_exporter": "python",
   "pygments_lexer": "ipython3",
   "version": "3.8.5"
  }
 },
 "nbformat": 4,
 "nbformat_minor": 4
}
