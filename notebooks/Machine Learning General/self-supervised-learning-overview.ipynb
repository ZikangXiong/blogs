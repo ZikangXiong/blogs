{
 "cells": [
  {
   "cell_type": "markdown",
   "id": "sustainable-awareness",
   "metadata": {},
   "source": [
    "# Self Supervised Learning Overview\n",
    "[blog1](https://lilianweng.github.io/lil-log/2019/11/10/self-supervised-learning.html)  "
   ]
  }
 ],
 "metadata": {
  "kernelspec": {
   "display_name": "Python 3",
   "language": "python",
   "name": "python3"
  },
  "language_info": {
   "codemirror_mode": {
    "name": "ipython",
    "version": 3
   },
   "file_extension": ".py",
   "mimetype": "text/x-python",
   "name": "python",
   "nbconvert_exporter": "python",
   "pygments_lexer": "ipython3",
   "version": "3.6.13"
  }
 },
 "nbformat": 4,
 "nbformat_minor": 5
}
