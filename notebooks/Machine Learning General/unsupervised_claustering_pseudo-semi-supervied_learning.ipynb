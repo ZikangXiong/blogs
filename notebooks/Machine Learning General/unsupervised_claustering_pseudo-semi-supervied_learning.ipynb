{
 "cells": [
  {
   "cell_type": "markdown",
   "id": "japanese-stability",
   "metadata": {},
   "source": [
    "# Unsupervised Clustering using Pseudo-semi-supervised Learning\n",
    "[blog](https://divamgupta.com/unsupervised-learning/2020/10/31/pseudo-semi-supervised-learning-for-unsupervised-clustering.html)  \n",
    "[paper](https://openreview.net/pdf?id=rJlnxkSYPS)  \n",
    "[code](https://github.com/divamgupta/deep-clustering-kingdra)  \n",
    "[open review](https://openreview.net/forum?id=rJlnxkSYPS)  "
   ]
  }
 ],
 "metadata": {
  "kernelspec": {
   "display_name": "Python 3",
   "language": "python",
   "name": "python3"
  },
  "language_info": {
   "codemirror_mode": {
    "name": "ipython",
    "version": 3
   },
   "file_extension": ".py",
   "mimetype": "text/x-python",
   "name": "python",
   "nbconvert_exporter": "python",
   "pygments_lexer": "ipython3",
   "version": "3.6.13"
  }
 },
 "nbformat": 4,
 "nbformat_minor": 5
}
