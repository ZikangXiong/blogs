{
 "cells": [
  {
   "cell_type": "markdown",
   "metadata": {},
   "source": [
    "# How to Write Human Readable Code\n",
    "[A comprehensive summary](https://gist.github.com/peterhurford/3ad9f48071bd2665a8af)  \n",
    "[A talk](https://www.youtube.com/watch?v=8bZh5LMaSmE)  \n",
    "[10 practices for readable code](https://jasonmccreary.me/articles/practices-write-readable-code-less-complex/)  \n",
    "[The junior developer’s guide to writing super clean and readable code](https://www.freecodecamp.org/news/the-junior-developers-guide-to-writing-super-clean-and-readable-code-cd2568e08aae/)  \n",
    "[3 creative techniques for writing modular code](https://techbeacon.com/app-dev-testing/3-creative-techniques-writing-modular-code)  \n",
    "\n",
    "There is no need to over-explain why writing human readable code is important. A human readable code is crucial for development, maintenance and reusing. Above are several posts talking about how to write the human readable code, and some examples for practice is provided below.  "
   ]
  },
  {
   "cell_type": "markdown",
   "metadata": {},
   "source": [
    "## Modular Code\n",
    "Avoid large block. "
   ]
  },
  {
   "cell_type": "markdown",
   "metadata": {},
   "source": [
    "#### Using variables to isolate logical expressions"
   ]
  },
  {
   "cell_type": "code",
   "execution_count": 1,
   "metadata": {},
   "outputs": [],
   "source": [
    "i = 1\n",
    "a_list = [2, 3]\n",
    "even = i % 2\n",
    "small_list = len(a_list) < 10\n",
    "\n",
    "if even and small_list: \n",
    "    pass"
   ]
  },
  {
   "cell_type": "markdown",
   "metadata": {},
   "source": [
    "#### Using nested functions to encapsulate blocks of code\n",
    "This is pretty useful when writing tutorial code. In any place you want to write a comment, you can write it as a function with appropriate name.   "
   ]
  },
  {
   "cell_type": "code",
   "execution_count": 2,
   "metadata": {},
   "outputs": [],
   "source": [
    "def shopping():\n",
    "    def buy_milk():\n",
    "        pass\n",
    "    \n",
    "    def buy_egg():\n",
    "        pass\n",
    "    \n",
    "    def buy_paper_towel():\n",
    "        pass"
   ]
  },
  {
   "cell_type": "markdown",
   "metadata": {},
   "source": [
    "#### Preventing data access with block-scoped variables\n",
    "If a variable only plays role in a block, it should not appear outside the block. "
   ]
  },
  {
   "cell_type": "code",
   "execution_count": 3,
   "metadata": {},
   "outputs": [],
   "source": [
    "import numpy as np\n",
    "\n",
    "a = np.random.randint(10)\n",
    "\n",
    "# right\n",
    "if a % 2 == 0:\n",
    "    b = 3\n",
    "    a += b\n",
    "\n",
    "# wrong\n",
    "b = 3\n",
    "if a % 2 == 0:\n",
    "    a += b"
   ]
  },
  {
   "cell_type": "markdown",
   "metadata": {},
   "source": [
    "## Use variable names that explain themselves"
   ]
  },
  {
   "cell_type": "code",
   "execution_count": 4,
   "metadata": {},
   "outputs": [],
   "source": [
    "a = 22 # bad\n",
    "age = 22 # good"
   ]
  },
  {
   "cell_type": "markdown",
   "metadata": {},
   "source": [
    "## Once you know where you want to go, refactor\n",
    "[A nice talk](https://www.youtube.com/watch?v=8bZh5LMaSmE)"
   ]
  },
  {
   "cell_type": "markdown",
   "metadata": {},
   "source": [
    "## Formatting & Indentation\n",
    "\n",
    "Automated Code Formating Tools - [Jupyter](https://github.com/ryantam626/jupyterlab_code_formatter), [JetBrains IDEs](https://stackoverflow.com/a/17880058/6156468)"
   ]
  },
  {
   "cell_type": "markdown",
   "metadata": {},
   "source": [
    "## Coding Style\n",
    "[Google python coding style guide](https://google.github.io/styleguide/pyguide.html)  \n",
    "A good IDE can help you check the style, I am satisfied with JetBrains IDEs.  \n",
    "\n",
    "E.g., to help people distinct the class, package, constant, variable, python usually follow the following style."
   ]
  },
  {
   "cell_type": "code",
   "execution_count": 5,
   "metadata": {},
   "outputs": [],
   "source": [
    "# Usually class uses Camel name and with captial initial letter\n",
    "# Wrong\n",
    "class good_boy:\n",
    "    pass\n",
    "\n",
    "# Right\n",
    "class GoodBoy:\n",
    "    pass"
   ]
  },
  {
   "cell_type": "code",
   "execution_count": 6,
   "metadata": {},
   "outputs": [],
   "source": [
    "# package use snake case in general, it is better to have only one word\n",
    "import numpy as np\n",
    "import async_timeout"
   ]
  },
  {
   "cell_type": "code",
   "execution_count": 7,
   "metadata": {},
   "outputs": [],
   "source": [
    "# Constant, captial snacke case\n",
    "TIME_LIMIT = 10"
   ]
  },
  {
   "cell_type": "code",
   "execution_count": 8,
   "metadata": {},
   "outputs": [],
   "source": [
    "# function, variable, snake case\n",
    "def wash_hand():\n",
    "    pass\n",
    "\n",
    "boy = GoodBoy()"
   ]
  }
 ],
 "metadata": {
  "kernelspec": {
   "display_name": "Python 3",
   "language": "python",
   "name": "python3"
  },
  "language_info": {
   "codemirror_mode": {
    "name": "ipython",
    "version": 3
   },
   "file_extension": ".py",
   "mimetype": "text/x-python",
   "name": "python",
   "nbconvert_exporter": "python",
   "pygments_lexer": "ipython3",
   "version": "3.8.5"
  }
 },
 "nbformat": 4,
 "nbformat_minor": 4
}
