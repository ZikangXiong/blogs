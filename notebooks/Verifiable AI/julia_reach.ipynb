{
 "cells": [
  {
   "cell_type": "markdown",
   "metadata": {},
   "source": [
    "# Julia Reach\n",
    "[repository](https://github.com/JuliaReach/ReachabilityAnalysis.jl)  \n",
    "[2020 Non-linear benchmark](https://github.com/JuliaReach/ARCH2020_AFF_RE.git)"
   ]
  },
  {
   "cell_type": "markdown",
   "metadata": {},
   "source": [
    "This tool won the best reward award for [ARCH20](https://cps-vo.org/group/ARCH) competition.  \n",
    "Similar tools: [CORA](https://tumcps.github.io/CORA/data/Cora2020Manual.pdf), etc.  "
   ]
  },
  {
   "cell_type": "markdown",
   "metadata": {},
   "source": [
    "## Install"
   ]
  },
  {
   "cell_type": "code",
   "execution_count": null,
   "metadata": {},
   "outputs": [],
   "source": [
    "# %%sh\n",
    "# cd res/\n",
    "# git clone https://github.com/JuliaReach/ARCH2020_NLN_RE.git"
   ]
  },
  {
   "cell_type": "markdown",
   "metadata": {},
   "source": [
    "## Verify Non-linear Benchmarks"
   ]
  },
  {
   "cell_type": "code",
   "execution_count": 1,
   "metadata": {},
   "outputs": [
    {
     "name": "stderr",
     "output_type": "stream",
     "text": [
      "\u001b[32m\u001b[1m Activating\u001b[22m\u001b[39m environment at `~/Research/blogs/notebooks/Verifiable AI/res/ARCH2020_NLN_RE/Project.toml`\n"
     ]
    }
   ],
   "source": [
    "using Pkg\n",
    "Pkg.activate(@__DIR__)\n",
    "Pkg.instantiate()"
   ]
  },
  {
   "cell_type": "code",
   "execution_count": 2,
   "metadata": {},
   "outputs": [
    {
     "data": {
      "text/plain": [
       "IOStream(<file res.csv>)"
      ]
     },
     "execution_count": 2,
     "metadata": {},
     "output_type": "execute_result"
    }
   ],
   "source": [
    "global io = open(\"res.csv\", \"w\")"
   ]
  },
  {
   "cell_type": "code",
   "execution_count": 3,
   "metadata": {},
   "outputs": [
    {
     "name": "stdout",
     "output_type": "stream",
     "text": [
      "(1/1) benchmarking \"CVDP20\"...\n",
      "  (1/2) benchmarking \"μ=2.0\"...\n",
      "  done (took 34.396497393 seconds)\n",
      "  (2/2) benchmarking \"μ=1.0\"...\n",
      "  done (took 6.747025392 seconds)\n",
      "done (took 42.797715139 seconds)\n",
      "minimum time for each benchmark:\n",
      "1-element BenchmarkTools.BenchmarkGroup:\n",
      "  tags: []\n",
      "  \"CVDP20\" => 2-element BenchmarkTools.BenchmarkGroup:\n",
      "\t  tags: []\n",
      "\t  \"μ=2.0\" => TrialEstimate(32.963 s)\n",
      "\t  \"μ=1.0\" => TrialEstimate(334.900 ms)\n",
      "median time for each benchmark:\n",
      "1-element BenchmarkTools.BenchmarkGroup:\n",
      "  tags: []\n",
      "  \"CVDP20\" => 2-element BenchmarkTools.BenchmarkGroup:\n",
      "\t  tags: []\n",
      "\t  \"μ=2.0\" => TrialEstimate(32.963 s)\n",
      "\t  \"μ=1.0\" => TrialEstimate(367.752 ms)\n"
     ]
    }
   ],
   "source": [
    "include(\"models/VanDerPol/vanderpol_benchmark.jl\")"
   ]
  },
  {
   "cell_type": "code",
   "execution_count": 4,
   "metadata": {},
   "outputs": [
    {
     "name": "stdout",
     "output_type": "stream",
     "text": [
      "volume final box, case I : 3.3e-20\n",
      "volume final box, case P : 5.3e-21\n",
      "volume final box, case IP : 1.0e-20\n",
      "(1/1) benchmarking \"PRDE20\"...\n",
      "  (1/3) benchmarking \"I\"...\n",
      "  done (took 6.687252579 seconds)\n",
      "  (2/3) benchmarking \"IP\"...\n",
      "  done (took 7.801292505 seconds)\n",
      "  (3/3) benchmarking \"P\"...\n",
      "  done (took 9.715274608 seconds)\n",
      "done (took 25.740959423 seconds)\n",
      "minimum time for each benchmark:\n",
      "1-element BenchmarkTools.BenchmarkGroup:\n",
      "  tags: []\n",
      "  \"PRDE20\" => 3-element BenchmarkTools.BenchmarkGroup:\n",
      "\t  tags: []\n",
      "\t  \"I\" => TrialEstimate(1.562 s)\n",
      "\t  \"IP\" => TrialEstimate(2.889 s)\n",
      "\t  \"P\" => TrialEstimate(4.035 s)\n",
      "median time for each benchmark:\n",
      "1-element BenchmarkTools.BenchmarkGroup:\n",
      "  tags: []\n",
      "  \"PRDE20\" => 3-element BenchmarkTools.BenchmarkGroup:\n",
      "\t  tags: []\n",
      "\t  \"I\" => TrialEstimate(1.588 s)\n",
      "\t  \"IP\" => TrialEstimate(3.114 s)\n",
      "\t  \"P\" => TrialEstimate(4.049 s)\n"
     ]
    }
   ],
   "source": [
    "# Production-destruction benchmark\n",
    "include(\"models/ProdDestruct/prod_destruct_benchmark.jl\")"
   ]
  },
  {
   "cell_type": "code",
   "execution_count": 5,
   "metadata": {},
   "outputs": [
    {
     "name": "stdout",
     "output_type": "stream",
     "text": [
      "width of final box, case W=0.01 : 0.00422669680166976\n",
      "width of final box, case W=0.05: 0.017462225836897716\n",
      "width of final box, case W=0.1 : 0.03362699736716124\n",
      "(1/1) benchmarking \"LALO20\"...\n",
      "  (1/3) benchmarking \"W=0.01\"...\n",
      "  done (took 7.57624038 seconds)\n",
      "  (2/3) benchmarking \"W=0.1\"...\n",
      "  done (took 7.795454151 seconds)\n",
      "  (3/3) benchmarking \"W=0.05\"...\n",
      "  done (took 7.913053309 seconds)\n",
      "done (took 24.867507693 seconds)\n",
      "minimum time for each benchmark:\n",
      "1-element BenchmarkTools.BenchmarkGroup:\n",
      "  tags: []\n",
      "  \"LALO20\" => 3-element BenchmarkTools.BenchmarkGroup:\n",
      "\t  tags: []\n",
      "\t  \"W=0.01\" => TrialEstimate(916.856 ms)\n",
      "\t  \"W=0.1\" => TrialEstimate(1.153 s)\n",
      "\t  \"W=0.05\" => TrialEstimate(1.180 s)\n",
      "median time for each benchmark:\n",
      "1-element BenchmarkTools.BenchmarkGroup:\n",
      "  tags: []\n",
      "  \"LALO20\" => 3-element BenchmarkTools.BenchmarkGroup:\n",
      "\t  tags: []\n",
      "\t  \"W=0.01\" => TrialEstimate(986.492 ms)\n",
      "\t  \"W=0.1\" => TrialEstimate(1.195 s)\n",
      "\t  \"W=0.05\" => TrialEstimate(1.221 s)\n"
     ]
    }
   ],
   "source": [
    "# Laub-Loomis benchmark\n",
    "include(\"models/LaubLoomis/laubloomis_benchmark.jl\")"
   ]
  },
  {
   "cell_type": "code",
   "execution_count": 6,
   "metadata": {},
   "outputs": [
    {
     "name": "stdout",
     "output_type": "stream",
     "text": [
      "Validate property, case Δ=0.1 : true\n",
      "Validate property, case Δ=0.4 : true\n",
      "Validate property, case Δ=0.8 : false\n",
      "(1/1) benchmarking \"QUAD20\"...\n",
      "  (1/3) benchmarking \"Δ=0.1\"...\n",
      "  done (took 7.482609231 seconds)\n",
      "  (2/3) benchmarking \"Δ=0.4\"...\n",
      "  done (took 7.457505771 seconds)\n",
      "  (3/3) benchmarking \"Δ=0.8\"...\n",
      "  done (took 7.467502425 seconds)\n",
      "done (took 24.139690623 seconds)\n",
      "minimum time for each benchmark:\n",
      "1-element BenchmarkTools.BenchmarkGroup:\n",
      "  tags: []\n",
      "  \"QUAD20\" => 3-element BenchmarkTools.BenchmarkGroup:\n",
      "\t  tags: []\n",
      "\t  \"Δ=0.1\" => TrialEstimate(1.845 s)\n",
      "\t  \"Δ=0.4\" => TrialEstimate(1.368 s)\n",
      "\t  \"Δ=0.8\" => TrialEstimate(1.391 s)\n",
      "median time for each benchmark:\n",
      "1-element BenchmarkTools.BenchmarkGroup:\n",
      "  tags: []\n",
      "  \"QUAD20\" => 3-element BenchmarkTools.BenchmarkGroup:\n",
      "\t  tags: []\n",
      "\t  \"Δ=0.1\" => TrialEstimate(1.910 s)\n",
      "\t  \"Δ=0.4\" => TrialEstimate(1.411 s)\n",
      "\t  \"Δ=0.8\" => TrialEstimate(1.421 s)\n"
     ]
    }
   ],
   "source": [
    "# Quadrotor benchmark\n",
    "include(\"models/Quadrotor/quadrotor_benchmark.jl\")"
   ]
  },
  {
   "cell_type": "code",
   "execution_count": 7,
   "metadata": {},
   "outputs": [
    {
     "name": "stdout",
     "output_type": "stream",
     "text": [
      "tmin = 2.6607663522539795\n",
      "tmax = 2.843324138086564\n",
      "tmax - tmin = 0.18255778583258442\n",
      "Final area, case  : 0.002201292698526464\n",
      "Time spent in guard, case  : 0.18255778583258442\n",
      "(1/1) benchmarking \"LOVO20\"...\n",
      "  (1/1) benchmarking \"\"...\n",
      "  done (took 7.94730342 seconds)\n",
      "done (took 9.755495225 seconds)\n",
      "minimum time for each benchmark:\n",
      "1-element BenchmarkTools.BenchmarkGroup:\n",
      "  tags: []\n",
      "  \"LOVO20\" => 1-element BenchmarkTools.BenchmarkGroup:\n",
      "\t  tags: []\n",
      "\t  \"\" => TrialEstimate(6.123 s)\n",
      "median time for each benchmark:\n",
      "1-element BenchmarkTools.BenchmarkGroup:\n",
      "  tags: []\n",
      "  \"LOVO20\" => 1-element BenchmarkTools.BenchmarkGroup:\n",
      "\t  tags: []\n",
      "\t  \"\" => TrialEstimate(6.123 s)\n"
     ]
    }
   ],
   "source": [
    "# Lotka-Volterra tangential crossing benchmark\n",
    "include(\"models/LotkaVolterra/lotka_volterra_benchmark.jl\")"
   ]
  },
  {
   "cell_type": "code",
   "execution_count": 8,
   "metadata": {},
   "outputs": [
    {
     "name": "stdout",
     "output_type": "stream",
     "text": [
      "Line of sight property: true\n",
      "Velocity constraint property true\n",
      "Target avoidance property: true\n",
      "(1/1) benchmarking \"SPRE20\"...\n",
      "  (1/1) benchmarking \"\"...\n",
      "  done (took 17.989037294 seconds)\n",
      "done (took 20.02641975 seconds)\n",
      "minimum time for each benchmark:\n",
      "1-element BenchmarkTools.BenchmarkGroup:\n",
      "  tags: []\n",
      "  \"SPRE20\" => 1-element BenchmarkTools.BenchmarkGroup:\n",
      "\t  tags: []\n",
      "\t  \"\" => TrialEstimate(15.918 s)\n",
      "median time for each benchmark:\n",
      "1-element BenchmarkTools.BenchmarkGroup:\n",
      "  tags: []\n",
      "  \"SPRE20\" => 1-element BenchmarkTools.BenchmarkGroup:\n",
      "\t  tags: []\n",
      "\t  \"\" => TrialEstimate(15.918 s)\n"
     ]
    }
   ],
   "source": [
    "# Spacecraft benchmark\n",
    "include(\"models/Spacecraft/spacecraft_benchmark.jl\")"
   ]
  }
 ],
 "metadata": {
  "kernelspec": {
   "display_name": "Julia 1.5.3",
   "language": "julia",
   "name": "julia-1.5"
  },
  "language_info": {
   "file_extension": ".jl",
   "mimetype": "application/julia",
   "name": "julia",
   "version": "1.5.3"
  }
 },
 "nbformat": 4,
 "nbformat_minor": 4
}
