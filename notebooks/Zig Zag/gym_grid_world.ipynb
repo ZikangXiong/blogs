{
 "cells": [
  {
   "cell_type": "markdown",
   "id": "structured-composer",
   "metadata": {},
   "source": [
    "# Gym Mini-Grid\n",
    "[code](https://github.com/maximecb/gym-minigrid)  "
   ]
  },
  {
   "cell_type": "code",
   "execution_count": 1,
   "id": "narrow-queensland",
   "metadata": {},
   "outputs": [],
   "source": [
    "import gym\n",
    "import gym_minigrid\n",
    "from PIL import Image\n",
    "from gym_minigrid.wrappers import *"
   ]
  },
  {
   "cell_type": "markdown",
   "id": "vocational-humanitarian",
   "metadata": {},
   "source": [
    "## Spaces"
   ]
  },
  {
   "cell_type": "code",
   "execution_count": 2,
   "id": "emotional-context",
   "metadata": {},
   "outputs": [],
   "source": [
    "env =  gym.make('MiniGrid-Empty-8x8-v0')"
   ]
  },
  {
   "cell_type": "markdown",
   "id": "worst-agency",
   "metadata": {},
   "source": [
    "### Action space\n",
    "\n",
    "Actions in the basic environment:  \n",
    "\n",
    "- Turn left  \n",
    "- Turn right  \n",
    "- Move forward  \n",
    "- Pick up an object  \n",
    "- Drop the object being carried  \n",
    "- Toggle (open doors, interact with objects)  \n",
    "- Done (task completed, optional)  "
   ]
  },
  {
   "cell_type": "code",
   "execution_count": 3,
   "id": "standing-tennis",
   "metadata": {},
   "outputs": [
    {
     "data": {
      "text/plain": [
       "Discrete(7)"
      ]
     },
     "execution_count": 3,
     "metadata": {},
     "output_type": "execute_result"
    }
   ],
   "source": [
    "env.action_space"
   ]
  },
  {
   "cell_type": "markdown",
   "id": "starting-microphone",
   "metadata": {},
   "source": [
    "### Observation Space\n",
    "Default, the observation is not based on Image.  \n",
    "Each tile is encoded as a 3 dimensional tuple: (OBJECT_IDX, COLOR_IDX, STATE)\n",
    "\n",
    "They use the image as its return's key is very confusing. "
   ]
  },
  {
   "cell_type": "code",
   "execution_count": 4,
   "id": "informational-tradition",
   "metadata": {},
   "outputs": [
    {
     "data": {
      "text/plain": [
       "Dict(image:Box(0, 255, (7, 7, 3), uint8))"
      ]
     },
     "execution_count": 4,
     "metadata": {},
     "output_type": "execute_result"
    }
   ],
   "source": [
    "env.observation_space"
   ]
  },
  {
   "cell_type": "markdown",
   "id": "improved-reform",
   "metadata": {},
   "source": [
    "RGBImgPartialObsWrapper provides a image observation. "
   ]
  },
  {
   "cell_type": "code",
   "execution_count": 5,
   "id": "insured-jones",
   "metadata": {},
   "outputs": [
    {
     "data": {
      "text/plain": [
       "Dict(image:Box(0, 255, (56, 56, 3), uint8))"
      ]
     },
     "execution_count": 5,
     "metadata": {},
     "output_type": "execute_result"
    }
   ],
   "source": [
    "env = RGBImgPartialObsWrapper(env)\n",
    "env.observation_space"
   ]
  },
  {
   "cell_type": "markdown",
   "id": "rough-effort",
   "metadata": {},
   "source": [
    "## Render"
   ]
  },
  {
   "cell_type": "code",
   "execution_count": 6,
   "id": "aquatic-lecture",
   "metadata": {},
   "outputs": [],
   "source": [
    "env =  gym.make('MiniGrid-Empty-8x8-v0')\n",
    "env = RGBImgPartialObsWrapper(env, tile_size=20)\n",
    "env = ImgObsWrapper(env)"
   ]
  },
  {
   "cell_type": "code",
   "execution_count": 7,
   "id": "comic-staff",
   "metadata": {},
   "outputs": [
    {
     "data": {
      "image/png": "[encoded data removed]",
      "text/plain": [
       "<PIL.Image.Image image mode=RGB size=140x140 at 0x7FCE87F1A7B8>"
      ]
     },
     "execution_count": 7,
     "metadata": {},
     "output_type": "execute_result"
    }
   ],
   "source": [
    "obs = env.reset()\n",
    "Image.fromarray(obs)"
   ]
  },
  {
   "cell_type": "code",
   "execution_count": 8,
   "id": "organic-thinking",
   "metadata": {},
   "outputs": [],
   "source": [
    "%%capture\n",
    "image = env.render()"
   ]
  },
  {
   "cell_type": "code",
   "execution_count": 9,
   "id": "sharing-checklist",
   "metadata": {},
   "outputs": [
    {
     "data": {
      "image/png": "[encoded data removed]",
      "text/plain": [
       "<PIL.Image.Image image mode=RGB size=256x256 at 0x7FCE87F1A588>"
      ]
     },
     "execution_count": 9,
     "metadata": {},
     "output_type": "execute_result"
    }
   ],
   "source": [
    "Image.fromarray(image)"
   ]
  },
  {
   "cell_type": "markdown",
   "id": "under-diving",
   "metadata": {},
   "source": [
    "## Flat Observation"
   ]
  },
  {
   "cell_type": "code",
   "execution_count": 10,
   "id": "funky-fiction",
   "metadata": {},
   "outputs": [],
   "source": [
    "env =  gym.make('MiniGrid-Empty-8x8-v0')\n",
    "flat_env = FlatObsWrapper(env)"
   ]
  },
  {
   "cell_type": "code",
   "execution_count": 11,
   "id": "clinical-subsection",
   "metadata": {},
   "outputs": [
    {
     "data": {
      "text/plain": [
       "2739"
      ]
     },
     "execution_count": 11,
     "metadata": {},
     "output_type": "execute_result"
    }
   ],
   "source": [
    "obs = flat_env.reset()\n",
    "len(obs)"
   ]
  },
  {
   "cell_type": "markdown",
   "id": "norwegian-attachment",
   "metadata": {},
   "source": [
    "## Full Observation "
   ]
  },
  {
   "cell_type": "code",
   "execution_count": 12,
   "id": "plastic-airfare",
   "metadata": {},
   "outputs": [],
   "source": [
    "full_obs_env =  gym.make('MiniGrid-Empty-8x8-v0')\n",
    "full_obs_env = FullyObsWrapper(full_obs_env)\n",
    "full_obs_env = RGBImgObsWrapper(full_obs_env)\n",
    "full_obs_env = ImgObsWrapper(full_obs_env)"
   ]
  },
  {
   "cell_type": "code",
   "execution_count": 13,
   "id": "academic-cattle",
   "metadata": {},
   "outputs": [],
   "source": [
    "%%capture\n",
    "image = full_obs_env.render()"
   ]
  },
  {
   "cell_type": "code",
   "execution_count": 14,
   "id": "extensive-framing",
   "metadata": {},
   "outputs": [
    {
     "data": {
      "image/png": "[encoded data removed]",
      "text/plain": [
       "<PIL.Image.Image image mode=RGB size=256x256 at 0x7FCE88FF8748>"
      ]
     },
     "execution_count": 14,
     "metadata": {},
     "output_type": "execute_result"
    }
   ],
   "source": [
    "Image.fromarray(image)"
   ]
  },
  {
   "cell_type": "code",
   "execution_count": 15,
   "id": "signed-segment",
   "metadata": {},
   "outputs": [
    {
     "data": {
      "image/png": "[encoded data removed]",
      "text/plain": [
       "<PIL.Image.Image image mode=RGB size=64x64 at 0x7FCE891BB1D0>"
      ]
     },
     "execution_count": 15,
     "metadata": {},
     "output_type": "execute_result"
    }
   ],
   "source": [
    "obs = full_obs_env.reset()\n",
    "Image.fromarray(obs)"
   ]
  },
  {
   "cell_type": "markdown",
   "id": "musical-construction",
   "metadata": {},
   "source": [
    "## Lava crossing environment (Safety Critical)"
   ]
  },
  {
   "cell_type": "markdown",
   "id": "informational-plymouth",
   "metadata": {},
   "source": [
    "The agent has to reach the green goal square on the other corner of the room while avoiding rivers of deadly lava which terminate the episode in failure. Each lava stream runs across the room either horizontally or vertically, and has a single crossing point which can be safely used; Luckily, a path to the goal is guaranteed to exist. This environment is useful for studying safety and safe exploration."
   ]
  },
  {
   "cell_type": "code",
   "execution_count": 16,
   "id": "cleared-settlement",
   "metadata": {},
   "outputs": [],
   "source": [
    "env = gym.make(\"MiniGrid-LavaCrossingS9N1-v0\")"
   ]
  },
  {
   "cell_type": "code",
   "execution_count": 17,
   "id": "negative-rogers",
   "metadata": {},
   "outputs": [],
   "source": [
    "_ = env.reset()"
   ]
  },
  {
   "cell_type": "code",
   "execution_count": 18,
   "id": "dominant-fairy",
   "metadata": {},
   "outputs": [],
   "source": [
    "%%capture\n",
    "image = env.render()"
   ]
  },
  {
   "cell_type": "code",
   "execution_count": 19,
   "id": "flying-option",
   "metadata": {},
   "outputs": [
    {
     "data": {
      "image/png": "[encoded data removed]",
      "text/plain": [
       "<PIL.Image.Image image mode=RGB size=288x288 at 0x7FCE891BB128>"
      ]
     },
     "execution_count": 19,
     "metadata": {},
     "output_type": "execute_result"
    }
   ],
   "source": [
    "Image.fromarray(image)"
   ]
  }
 ],
 "metadata": {
  "kernelspec": {
   "display_name": "Python 3",
   "language": "python",
   "name": "python3"
  },
  "language_info": {
   "codemirror_mode": {
    "name": "ipython",
    "version": 3
   },
   "file_extension": ".py",
   "mimetype": "text/x-python",
   "name": "python",
   "nbconvert_exporter": "python",
   "pygments_lexer": "ipython3",
   "version": "3.6.10"
  }
 },
 "nbformat": 4,
 "nbformat_minor": 5
}
