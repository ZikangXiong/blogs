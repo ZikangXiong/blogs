{
 "cells": [
  {
   "cell_type": "markdown",
   "metadata": {},
   "source": [
    "# Matlab Python API\n",
    "[link](https://www.mathworks.com/help/matlab/matlab_external/call-matlab-functions-from-python.html)  "
   ]
  },
  {
   "cell_type": "markdown",
   "metadata": {},
   "source": [
    "## Install API"
   ]
  },
  {
   "cell_type": "code",
   "execution_count": 1,
   "metadata": {},
   "outputs": [],
   "source": [
    "# Uncomment and enter appropriate path to install matlab python API\n",
    "# %%sh \n",
    "# cd '/Applications/MATLAB_R2020b.app/extern/engines/python'\n",
    "# python setup.py install"
   ]
  },
  {
   "cell_type": "markdown",
   "metadata": {},
   "source": [
    "# Start engine"
   ]
  },
  {
   "cell_type": "code",
   "execution_count": 2,
   "metadata": {},
   "outputs": [],
   "source": [
    "import matlab.engine\n",
    "eng = matlab.engine.start_matlab()"
   ]
  },
  {
   "cell_type": "markdown",
   "metadata": {},
   "source": [
    "# Call functions"
   ]
  },
  {
   "cell_type": "code",
   "execution_count": 3,
   "metadata": {},
   "outputs": [
    {
     "data": {
      "text/plain": [
       "2.5"
      ]
     },
     "execution_count": 3,
     "metadata": {},
     "output_type": "execute_result"
    }
   ],
   "source": [
    "eng.triarea(1.0, 5.0)"
   ]
  },
  {
   "cell_type": "markdown",
   "metadata": {},
   "source": [
    "## Numpy array and matlab array"
   ]
  },
  {
   "cell_type": "code",
   "execution_count": 2,
   "metadata": {},
   "outputs": [],
   "source": [
    "import matlab\n",
    "# This is actually `matlab._internal`, but matlab/__init__.py\n",
    "# mangles the path making it appear as `_internal`.\n",
    "# Importing it under a different name would be a bad idea.\n",
    "from _internal.mlarray_utils import _get_strides, _get_mlsize\n",
    "import numpy as np\n",
    "\n",
    "def _wrapper__init__(self, arr):\n",
    "    assert arr.dtype == type(self)._numpy_type\n",
    "    self._python_type = type(arr.dtype.type().item())\n",
    "    self._is_complex = np.issubdtype(arr.dtype, np.complexfloating)\n",
    "    self._size = _get_mlsize(arr.shape)\n",
    "    self._strides = _get_strides(self._size)[:-1]\n",
    "    self._start = 0\n",
    "\n",
    "    if self._is_complex:\n",
    "        self._real = arr.real.ravel(order='F')\n",
    "        self._imag = arr.imag.ravel(order='F')\n",
    "    else:\n",
    "        self._data = arr.ravel(order='F')\n",
    "\n",
    "_wrappers = {}\n",
    "def _define_wrapper(matlab_type, numpy_type):\n",
    "    t = type(matlab_type.__name__, (matlab_type,), dict(\n",
    "        __init__=_wrapper__init__,\n",
    "        _numpy_type=numpy_type\n",
    "    ))\n",
    "    # this tricks matlab into accepting our new type\n",
    "    t.__module__ = matlab_type.__module__\n",
    "    _wrappers[numpy_type] = t\n",
    "\n",
    "_define_wrapper(matlab.double, np.double)\n",
    "_define_wrapper(matlab.single, np.single)\n",
    "_define_wrapper(matlab.uint8, np.uint8)\n",
    "_define_wrapper(matlab.int8, np.int8)\n",
    "_define_wrapper(matlab.uint16, np.uint16)\n",
    "_define_wrapper(matlab.int16, np.int16)\n",
    "_define_wrapper(matlab.uint32, np.uint32)\n",
    "_define_wrapper(matlab.int32, np.int32)\n",
    "_define_wrapper(matlab.uint64, np.uint64)\n",
    "_define_wrapper(matlab.int64, np.int64)\n",
    "_define_wrapper(matlab.logical, np.bool_)\n",
    "\n",
    "def as_matlab(arr):\n",
    "    try:\n",
    "        cls = _wrappers[arr.dtype.type]\n",
    "    except KeyError:\n",
    "        raise TypeError(\"Unsupported data type\")\n",
    "    return cls(arr)"
   ]
  },
  {
   "cell_type": "code",
   "execution_count": 14,
   "metadata": {},
   "outputs": [],
   "source": [
    "np_a = np.random.random_sample([100, 100, 100])\n",
    "mat_a = as_matlab(np_a)"
   ]
  },
  {
   "cell_type": "code",
   "execution_count": 11,
   "metadata": {},
   "outputs": [
    {
     "name": "stdout",
     "output_type": "stream",
     "text": [
      "2.73 ms ± 191 µs per loop (mean ± std. dev. of 7 runs, 100 loops each)\n"
     ]
    }
   ],
   "source": [
    "%%timeit\n",
    "as_matlab(np_a)"
   ]
  },
  {
   "cell_type": "code",
   "execution_count": 12,
   "metadata": {},
   "outputs": [
    {
     "name": "stdout",
     "output_type": "stream",
     "text": [
      "1.12 s ± 58.1 ms per loop (mean ± std. dev. of 7 runs, 1 loop each)\n"
     ]
    }
   ],
   "source": [
    "%%timeit\n",
    "matlab.double(np_a.tolist())"
   ]
  },
  {
   "cell_type": "code",
   "execution_count": 15,
   "metadata": {},
   "outputs": [
    {
     "name": "stdout",
     "output_type": "stream",
     "text": [
      "3.47 s ± 59 ms per loop (mean ± std. dev. of 7 runs, 1 loop each)\n"
     ]
    }
   ],
   "source": [
    "%%timeit\n",
    "np.asarray(mat_a)"
   ]
  }
 ],
 "metadata": {
  "kernelspec": {
   "display_name": "Python 3",
   "language": "python",
   "name": "python3"
  },
  "language_info": {
   "codemirror_mode": {
    "name": "ipython",
    "version": 3
   },
   "file_extension": ".py",
   "mimetype": "text/x-python",
   "name": "python",
   "nbconvert_exporter": "python",
   "pygments_lexer": "ipython3",
   "version": "3.8.5"
  }
 },
 "nbformat": 4,
 "nbformat_minor": 4
}
