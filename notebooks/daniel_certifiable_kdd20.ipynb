{
 "cells": [
  {
   "cell_type": "markdown",
   "metadata": {},
   "source": [
    "# Certifiable Robustness of Graph Convolutional Networks under Structure Perturbations\n",
    "\n",
    "[link](https://www.kdd.org/kdd2020/accepted-papers/view/certifiable-robustness-of-graph-convolutional-networks-under-structure-pert)\n",
    "\n",
    "## Contribution\n",
    "A framework for graph structure perturbation robustness. \n",
    "\n",
    "## Preliminaries and Approaches\n",
    "\n",
    "### Their Structural Robustness Definition  \n",
    "For one node, perturb on the transformation of adjacency matrix $\\mathbf{A}$ with admissible perturbations, the label should not change.  \n",
    "$$\n",
    "\\begin{aligned}\n",
    "m^{t}\\left(y^{*}, y\\right):=& \\operatorname{minimize}_{\\tilde{A}} f_{\\theta}^{t}(X, \\mathcal{T}(\\tilde{A}))_{y^{*}}-f_{\\theta}^{t}(X, \\mathcal{T}(\\tilde{A}))_{y} \\\\\n",
    "& \\text { subject to } \\tilde{A} \\in \\mathcal{A}(A)\n",
    "\\end{aligned}\n",
    "$$\n",
    "\n",
    "The admissible perturbation is defined as \n",
    "$$\n",
    "\\begin{aligned}\n",
    "\\mathcal{A}(A)=&\\left\\{\\tilde{A} \\in\\{0,1\\}^{N \\times N} \\mid \\tilde{A}_{i j} \\leq A_{i j} \\wedge \\tilde{A}=\\tilde{A}^{T}\\right.\\\\\n",
    "& \\wedge\\|\\tilde{A}-A\\|_{0} \\leq 2 Q \\\\\n",
    "&\\left.\\wedge\\left\\|\\tilde{A}_{i}-A_{i}\\right\\|_{0} \\leq q_{i} \\forall 1 \\leq i \\leq N\\right\\}\n",
    "\\end{aligned}\n",
    "$$\n",
    "\n",
    "The formalization is unclear to me, they said that the allow to *insert* at most $q_i$ edges, but the definition above seems to be *delete* some edges. Based on the left paper, the insert should be a typo.    \n",
    "\n",
    "### Induced constraints.\n",
    "It is critical to make sure that the perturbed results in the transformed space are subjected to the constraints on the real adjacency matrix. The authors proposed a sequence of constraints here. Did not read carefully. \n",
    "\n",
    "### Relaxation of the neural network\n",
    "Abstraction based on [this](http://papers.nips.cc/paper/8285-semidefinite-relaxations-for-certifying-robustness-to-adversarial-examples.pdf). \n",
    "\n",
    "### Bilinear Program\n",
    "Guess that bilinear is because $\\hat{\\mathbf{A}}$ is a range. Did not read other part carefully. There seems to be an iterative algorithm that have coverage guarantee. As long as they can made the lower boundary of $y* - y > 0$, the network is robust.  \n",
    "\n",
    "## Follow-up\n",
    "It is worthwhile to read their formalization on the inducted constraints, if I want to write this kind of paper.   "
   ]
  }
 ],
 "metadata": {
  "kernelspec": {
   "display_name": "Python 3",
   "language": "python",
   "name": "python3"
  },
  "language_info": {
   "codemirror_mode": {
    "name": "ipython",
    "version": 3
   },
   "file_extension": ".py",
   "mimetype": "text/x-python",
   "name": "python",
   "nbconvert_exporter": "python",
   "pygments_lexer": "ipython3",
   "version": "3.8.5"
  }
 },
 "nbformat": 4,
 "nbformat_minor": 4
}
