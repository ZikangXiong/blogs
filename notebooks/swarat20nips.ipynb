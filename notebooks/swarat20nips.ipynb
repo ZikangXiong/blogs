{
 "cells": [
  {
   "cell_type": "markdown",
   "metadata": {},
   "source": [
    "# Neuro-symbolic Reinforcement Learning with Formally Verified Exploration\n",
    "\n",
    "[link](https://arxiv.org/pdf/2009.12612.pdf)  \n",
    "\n",
    "## Contribution\n",
    "Guarantee the safe exploration in continuous control tasks.  \n",
    "\n",
    "## Imitate Safely  \n",
    "Get **a** shield.  \n",
    "for t = $1, \\dots, T$ do, \n",
    "1. Initialize the system with a manually constructed shield.  \n",
    "2. The neural network policy is imitated from the shield.  \n",
    "3. The neural network is updated with gradient-based RL algorithms.  \n",
    "4. Imitate the shielded neural network to get a new shield.  \n",
    "\n",
    "## $Project_\\mathcal{G}$\n",
    "**Refine** the piecewise linear shield.  \n",
    "for t = $1, \\dots, T$ do, \n",
    "1. Cutting space to 2 parts. \n",
    "2. Call imitate safely for both of the subspace, and get 2 verified policies $g_i^1$ and $g_i^2$ for the 2 spitted spaces.  \n",
    "3. Compose $g_i^1$ and $g_i^2$ to $g'$. \n",
    "4. If $D(g', h) < D(g*, h)$, $g* \\leftarrow g'$. $D$ is the $L_2$ norm, h is the shielded neural policy.    \n",
    "\n",
    "## Detailed Questions \n",
    "1. In step 2 of $Project_\\mathcal{G}$, what if the learned the new shield cannot be verified? Even if redo this step 2 may find verified policy, but there is no guarantee. I guess if they cannot find it, they will keep the previous shield. \n",
    "2. If we already have a shielded policy at the beginning, why not keep using this shield to ensure the safety for exploration, while focusing on optimizing the neural network policy? The time calling the shield is much less than the time of calling the neural network. Thus, even the performance of the shield is not so good, since it is less likely to be involved, it should not affect the reward too much. Their results also show that neural network based DDPG can have best rewards in almost every case.  \n",
    "\n",
    "## Other\n",
    "The proof is useful for an AI conference submission.  \n",
    "\n"
   ]
  }
 ],
 "metadata": {
  "kernelspec": {
   "display_name": "Python 3",
   "language": "python",
   "name": "python3"
  },
  "language_info": {
   "codemirror_mode": {
    "name": "ipython",
    "version": 3
   },
   "file_extension": ".py",
   "mimetype": "text/x-python",
   "name": "python",
   "nbconvert_exporter": "python",
   "pygments_lexer": "ipython3",
   "version": "3.8.5"
  }
 },
 "nbformat": 4,
 "nbformat_minor": 4
}
